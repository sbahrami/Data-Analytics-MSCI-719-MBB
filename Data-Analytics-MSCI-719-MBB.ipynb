{
 "cells": [
  {
   "cell_type": "markdown",
   "id": "b1569146-0a15-48fc-873b-357a08b0590f",
   "metadata": {},
   "source": [
    "**Preparing the data and developing the model**"
   ]
  },
  {
   "cell_type": "markdown",
   "id": "46629c94-2ae6-4030-9369-1dfb6b74f280",
   "metadata": {},
   "source": [
    "Impact of the Frequency of Camps and Target Inventory on Shortage and Wastage"
   ]
  },
  {
   "cell_type": "code",
   "execution_count": 1,
   "id": "b2851f35",
   "metadata": {},
   "outputs": [],
   "source": [
    "import pandas as pd\n",
    "import numpy as np\n",
    "import matplotlib.pyplot as plt\n",
    "import scipy.stats as stats"
   ]
  },
  {
   "cell_type": "code",
   "execution_count": 2,
   "id": "dcca73d5-5c4b-416c-baf2-9a1eccd6019e",
   "metadata": {},
   "outputs": [],
   "source": [
    "main_df = pd.read_csv(\"Assignment8-Data.csv\")"
   ]
  },
  {
   "cell_type": "code",
   "execution_count": 3,
   "id": "be2118e4-a9e4-4159-9b4f-bbb4f7930c61",
   "metadata": {},
   "outputs": [
    {
     "data": {
      "text/plain": [
       "Index(['S.No.', 'Daily Demand for the Perishable Item (Units)',\n",
       "       'Supply Quantity Per Camp for the Perishable Item (Units)'],\n",
       "      dtype='object')"
      ]
     },
     "execution_count": 3,
     "metadata": {},
     "output_type": "execute_result"
    }
   ],
   "source": [
    "main_df.columns"
   ]
  },
  {
   "cell_type": "code",
   "execution_count": 4,
   "id": "ae6462b4-9e62-4144-a51c-ffe561ec7107",
   "metadata": {},
   "outputs": [
    {
     "data": {
      "text/html": [
       "<div>\n",
       "<style scoped>\n",
       "    .dataframe tbody tr th:only-of-type {\n",
       "        vertical-align: middle;\n",
       "    }\n",
       "\n",
       "    .dataframe tbody tr th {\n",
       "        vertical-align: top;\n",
       "    }\n",
       "\n",
       "    .dataframe thead th {\n",
       "        text-align: right;\n",
       "    }\n",
       "</style>\n",
       "<table border=\"1\" class=\"dataframe\">\n",
       "  <thead>\n",
       "    <tr style=\"text-align: right;\">\n",
       "      <th></th>\n",
       "      <th>id</th>\n",
       "      <th>demand</th>\n",
       "      <th>supply</th>\n",
       "    </tr>\n",
       "  </thead>\n",
       "  <tbody>\n",
       "    <tr>\n",
       "      <th>count</th>\n",
       "      <td>10000.00000</td>\n",
       "      <td>10000.000000</td>\n",
       "      <td>10000.000000</td>\n",
       "    </tr>\n",
       "    <tr>\n",
       "      <th>mean</th>\n",
       "      <td>5000.50000</td>\n",
       "      <td>27.851000</td>\n",
       "      <td>77.972200</td>\n",
       "    </tr>\n",
       "    <tr>\n",
       "      <th>std</th>\n",
       "      <td>2886.89568</td>\n",
       "      <td>5.292504</td>\n",
       "      <td>34.546629</td>\n",
       "    </tr>\n",
       "    <tr>\n",
       "      <th>min</th>\n",
       "      <td>1.00000</td>\n",
       "      <td>9.000000</td>\n",
       "      <td>32.000000</td>\n",
       "    </tr>\n",
       "    <tr>\n",
       "      <th>25%</th>\n",
       "      <td>2500.75000</td>\n",
       "      <td>24.000000</td>\n",
       "      <td>53.000000</td>\n",
       "    </tr>\n",
       "    <tr>\n",
       "      <th>50%</th>\n",
       "      <td>5000.50000</td>\n",
       "      <td>28.000000</td>\n",
       "      <td>72.000000</td>\n",
       "    </tr>\n",
       "    <tr>\n",
       "      <th>75%</th>\n",
       "      <td>7500.25000</td>\n",
       "      <td>31.000000</td>\n",
       "      <td>89.000000</td>\n",
       "    </tr>\n",
       "    <tr>\n",
       "      <th>max</th>\n",
       "      <td>10000.00000</td>\n",
       "      <td>48.000000</td>\n",
       "      <td>223.000000</td>\n",
       "    </tr>\n",
       "  </tbody>\n",
       "</table>\n",
       "</div>"
      ],
      "text/plain": [
       "                id        demand        supply\n",
       "count  10000.00000  10000.000000  10000.000000\n",
       "mean    5000.50000     27.851000     77.972200\n",
       "std     2886.89568      5.292504     34.546629\n",
       "min        1.00000      9.000000     32.000000\n",
       "25%     2500.75000     24.000000     53.000000\n",
       "50%     5000.50000     28.000000     72.000000\n",
       "75%     7500.25000     31.000000     89.000000\n",
       "max    10000.00000     48.000000    223.000000"
      ]
     },
     "execution_count": 4,
     "metadata": {},
     "output_type": "execute_result"
    }
   ],
   "source": [
    "main_df = main_df.rename(mapper={main_df.columns[0]:\"id\",\n",
    "                                 main_df.columns[1]:\"demand\",\n",
    "                                 main_df.columns[2]:\"supply\"},\n",
    "                         axis=\"columns\")\n",
    "main_df.describe()"
   ]
  },
  {
   "cell_type": "markdown",
   "id": "2606203f-3109-477a-8d1a-da59d0f8ef50",
   "metadata": {},
   "source": [
    "MBB is interested in analyzing the impact of different policies on the platelets’ shortage and wastage. Suppose\n",
    "that the shelf life of platelets is seven days, the target inventory is 1400, and the donation camps are held daily.\n",
    "For both supply and demand, 10,000 random observations are provided in Data.xlsx file."
   ]
  },
  {
   "cell_type": "code",
   "execution_count": 5,
   "id": "81990257-6d15-44bb-be4b-b1f8273b193b",
   "metadata": {},
   "outputs": [],
   "source": [
    "# Shelf life of platelets\n",
    "shelf_life = 7\n",
    "\n",
    "# Target inventory\n",
    "tar_inv = 1400\n",
    "\n",
    "ndays = 10000\n",
    "\n",
    "# Donation camps are held daily"
   ]
  },
  {
   "cell_type": "markdown",
   "id": "a9ce243e-4ec3-40b3-bb2d-31a3d304009a",
   "metadata": {},
   "source": [
    "A poisson distribution is fit on demand data, and the poisson's parameter of the fit is obtained to generate more new random data for demand."
   ]
  },
  {
   "cell_type": "code",
   "execution_count": 6,
   "id": "95609dfa-1df9-4939-92da-390c85e28707",
   "metadata": {},
   "outputs": [],
   "source": [
    "# demand_fit = stats.fit(dist=stats.poisson, data=main_df[\"demand\"], bounds=[(0,100)])\n",
    "# demand_fit.params\n",
    "# np.random.seed(0)\n",
    "# demand = stats.poisson.rvs(demand_fit.params[0], loc=demand_fit.params[1], size=ndays)\n",
    "demand = main_df.demand"
   ]
  },
  {
   "cell_type": "markdown",
   "id": "78130453-c670-42f6-ae7e-126d5c425ced",
   "metadata": {},
   "source": [
    "For supply data, the probability of each value is obtained and based on that new random data of similar distribution is generated for supply."
   ]
  },
  {
   "cell_type": "code",
   "execution_count": 7,
   "id": "37b768db-93d6-432a-968e-41aa851a7205",
   "metadata": {},
   "outputs": [],
   "source": [
    "# df = main_df.groupby(by=\"supply\").supply.count()/len(main_df)\n",
    "# supply_values = df.index\n",
    "# probabilities = df.values\n",
    "# supply = np.random.choice(a=supply_values, p=probabilities, size=ndays)\n",
    "supply = main_df.supply"
   ]
  },
  {
   "cell_type": "code",
   "execution_count": 8,
   "id": "843e1376-bcdd-48e6-9bc0-cb1c4462adaf",
   "metadata": {},
   "outputs": [],
   "source": [
    "\n",
    "def solve_MBB(tar_inv, shelf_life, supply, demand):\n",
    "    shortage = np.zeros(ndays)\n",
    "    wastage = np.zeros(ndays)\n",
    "    inv_arr = np.zeros(shape=(ndays, shelf_life))\n",
    "    \n",
    "    # Replenishing the inventory for the first day\n",
    "    inv_arr[0,0] = min(supply[0], max(tar_inv-sum(inv_arr[0,1:]), 0))\n",
    "    \n",
    "    for i in range(1, ndays):\n",
    "        for j in range(1, shelf_life):\n",
    "            inv_arr[i,j] = max(inv_arr[i-1, j-1]-\n",
    "                               max(demand[i-1]-sum(inv_arr[i-1,j:shelf_life]),0),0)\n",
    "\n",
    "        # Adding new supply to inventory based on available inventory\n",
    "        inv_arr[i,0] = min(supply[i], max(tar_inv-sum(inv_arr[i,1:]), 0))\n",
    "        \n",
    "        shortage[i] = max(demand[i]-sum(inv_arr[i,:]),0)\n",
    "        wastage[i] = max(inv_arr[i,-1]-demand[i],0)\n",
    "    return inv_arr, shortage, wastage"
   ]
  },
  {
   "cell_type": "markdown",
   "id": "72b865db-091a-4414-8421-50f7a981c2f5",
   "metadata": {},
   "source": [
    "# Target inventory effect"
   ]
  },
  {
   "cell_type": "markdown",
   "id": "b070ee60-fbbe-417c-af17-53ff6b380146",
   "metadata": {},
   "source": [
    "Assuming that the target inventory is decreased to 200 units the daily average wastage and shortage for the blood bank is obtained:"
   ]
  },
  {
   "cell_type": "code",
   "execution_count": 9,
   "id": "39fbc304-30b9-49dc-8e2d-5e4d7095e9be",
   "metadata": {},
   "outputs": [],
   "source": [
    "inv, shortage, wastage = solve_MBB(200, shelf_life, supply, demand)"
   ]
  },
  {
   "cell_type": "code",
   "execution_count": 10,
   "id": "a85b61bb-9a08-4985-ac15-5c819dd7a242",
   "metadata": {},
   "outputs": [
    {
     "data": {
      "text/plain": [
       "0.0"
      ]
     },
     "execution_count": 10,
     "metadata": {},
     "output_type": "execute_result"
    }
   ],
   "source": [
    "np.average(shortage)"
   ]
  },
  {
   "cell_type": "code",
   "execution_count": 11,
   "id": "1438191c-1fe2-4e13-b299-ddfe19df823b",
   "metadata": {},
   "outputs": [
    {
     "data": {
      "text/plain": [
       "1.6785"
      ]
     },
     "execution_count": 11,
     "metadata": {},
     "output_type": "execute_result"
    }
   ],
   "source": [
    "np.average(wastage)"
   ]
  },
  {
   "cell_type": "code",
   "execution_count": 12,
   "id": "9bd447d4-45e8-4e31-b3ae-ddcade1451f6",
   "metadata": {},
   "outputs": [],
   "source": [
    "# inv\n",
    "np.savetxt(\"inv.csv\", inv, delimiter=\",\")"
   ]
  },
  {
   "cell_type": "markdown",
   "id": "97739ccf-e6cd-4676-a6b7-87a909a34913",
   "metadata": {},
   "source": [
    "# Decreasing donation camps' duration"
   ]
  },
  {
   "cell_type": "markdown",
   "id": "8bd641db-53d9-447e-9b59-0aad835ee809",
   "metadata": {},
   "source": [
    "MBB is considering decreasing the donation camp’s duration, which leads to less supply for each period.\n",
    "Reducing the supply for each period by 15%, 25%, 35%, ... ,85%, 95%, the average\n",
    "shortage and wastage change as presented below:"
   ]
  },
  {
   "cell_type": "code",
   "execution_count": 13,
   "id": "8188ecee-ee9d-41a0-b964-73c2f35a0527",
   "metadata": {},
   "outputs": [],
   "source": [
    "reductions = np.arange(0.15, 1.05, 0.1)\n",
    "shortage_avgs = np.zeros(len(reductions))\n",
    "wastage_avgs = np.zeros(len(reductions))\n",
    "\n",
    "for idx, portion in enumerate(reductions):\n",
    "    red_supply = supply * (1-portion)\n",
    "    inv, shortage, wastage = solve_MBB(200, shelf_life, red_supply, demand)\n",
    "    shortage_avgs[idx] = np.floor(np.average(shortage))\n",
    "    wastage_avgs[idx] = np.floor(np.average(wastage))"
   ]
  },
  {
   "cell_type": "code",
   "execution_count": 14,
   "id": "b8ae4323-0b86-4c07-84c0-0dfb2d759e36",
   "metadata": {},
   "outputs": [
    {
     "data": {
      "text/plain": [
       "Text(0, 0.5, 'Value')"
      ]
     },
     "execution_count": 14,
     "metadata": {},
     "output_type": "execute_result"
    },
    {
     "data": {
      "image/png": "[encoded data removed]",
      "text/plain": [
       "<Figure size 640x480 with 1 Axes>"
      ]
     },
     "metadata": {},
     "output_type": "display_data"
    }
   ],
   "source": [
    "fig, ax = plt.subplots()\n",
    "ax.scatter(x=reductions, y=shortage_avgs, marker=\"o\", label=\"Avg. shortage\")\n",
    "ax.scatter(x=reductions, y=wastage_avgs, marker=\"s\", label=\"Avg. wastage\")\n",
    "ax.legend()\n",
    "ax.set_xlabel(\"Supply reduction (%)\")\n",
    "ax.set_ylabel(\"Value\")"
   ]
  },
  {
   "cell_type": "markdown",
   "id": "6eb990f2-8d86-4627-92d5-f9171c32b131",
   "metadata": {},
   "source": [
    "The plot above shows that as the average wastage becomes zero the average shortage starts to increase from zero, but as far as average wastage exist there is no considerable average shortage."
   ]
  },
  {
   "cell_type": "code",
   "execution_count": 15,
   "id": "95128565-b25c-4ead-96d1-28d51d30741f",
   "metadata": {},
   "outputs": [
    {
     "name": "stdout",
     "output_type": "stream",
     "text": [
      "   Recution rate  Average shortage  Average wastage\n",
      "0           0.15               0.0              1.0\n",
      "1           0.25               0.0              1.0\n",
      "2           0.35               0.0              1.0\n",
      "3           0.45               0.0              1.0\n",
      "4           0.55               0.0              1.0\n",
      "5           0.65               0.0              0.0\n",
      "6           0.75               8.0              0.0\n",
      "7           0.85              16.0              0.0\n",
      "8           0.95              23.0              0.0\n"
     ]
    }
   ],
   "source": [
    "df_out = pd.DataFrame((reductions, shortage_avgs, wastage_avgs))\n",
    "df_out = df_out.transpose()\n",
    "df_out.columns = ((\"Recution rate\", \"Average shortage\", \"Average wastage\"))\n",
    "print(df_out)"
   ]
  },
  {
   "cell_type": "markdown",
   "id": "bac81f54-fd72-44cf-95ae-dc829039a590",
   "metadata": {},
   "source": [
    "# Decreasing donation camps' frequency"
   ]
  },
  {
   "cell_type": "markdown",
   "id": "573d3290-6157-4447-8e90-10ed6ed56b3c",
   "metadata": {},
   "source": [
    "MBB is willing to examine the impact of decreasing the frequency of donation camps on the percentage of wastage and shortage if the donation camps were held:\n",
    "* every two days instead of every day\n",
    "* every three days instead of every day\n",
    "\n",
    "To determine the supply for each day when the frequency is decreased to “every two days”, it is assumed that the supply of day i (i = 1, 3, 5, . . . ) is equal to the supply of day i plus the supply of day i+1.\n",
    "Similarly, the supply can be determined for “every three days” case."
   ]
  },
  {
   "cell_type": "markdown",
   "id": "44ea2841-84a2-4bae-a716-0ca9f88fe402",
   "metadata": {},
   "source": [
    "## Case 1: supply at every two days"
   ]
  },
  {
   "cell_type": "code",
   "execution_count": 19,
   "id": "7e6a72b3-1a6a-4166-b510-39381037a93e",
   "metadata": {},
   "outputs": [
    {
     "name": "stdout",
     "output_type": "stream",
     "text": [
      "Shortage rate: 0.00%\n",
      "Wastage rate: 1.88%\n"
     ]
    }
   ],
   "source": [
    "new_supply_1 = np.zeros(ndays)\n",
    "\n",
    "# Modify supply values based on the 1st scenario\n",
    "for idx, sup in enumerate(supply):\n",
    "    if (idx%2 == 0) and (idx <= ndays-2):\n",
    "        new_supply_1[idx] = supply[idx] + supply[idx+1]\n",
    "    else:\n",
    "        new_supply_1[idx] = 0\n",
    "        \n",
    "# Obtain inventory, shortage and wastage values\n",
    "inv, shortage, wastage = solve_MBB(200, shelf_life, new_supply_1, demand)\n",
    "shortage_rate = np.sum(shortage)/np.sum(new_supply_1)*100\n",
    "wastage_rate = np.sum(wastage)/np.sum(new_supply_1)*100\n",
    "print(\"Shortage rate: {:.2f}%\".format(shortage_rate))\n",
    "print(\"Wastage rate: {:.2f}%\".format(wastage_rate))"
   ]
  },
  {
   "cell_type": "markdown",
   "id": "276d3d61-8a49-4c51-82df-e1db5a07c74f",
   "metadata": {},
   "source": [
    "## Case 2: supply at every three days"
   ]
  },
  {
   "cell_type": "code",
   "execution_count": 17,
   "id": "c205d52e-074e-451e-b47e-c40bf861db13",
   "metadata": {},
   "outputs": [
    {
     "name": "stdout",
     "output_type": "stream",
     "text": [
      "Shortage rate: 0.00%\n",
      "Wastage rate: 1.67%\n"
     ]
    }
   ],
   "source": [
    "new_supply_2 = np.zeros(ndays)\n",
    "\n",
    "# Modify supply values based on the 2nd scenario\n",
    "for idx, sup in enumerate(supply):\n",
    "    if (idx%3 == 0) and (idx <= ndays-3):\n",
    "        new_supply_2[idx] = supply[idx] + supply[idx+1] + supply[idx+2]\n",
    "    else:\n",
    "        new_supply_2[idx] = 0\n",
    "\n",
    "# Obtain inventory, shortage and wastage values\n",
    "inv, shortage, wastage = solve_MBB(200, shelf_life, new_supply_2, demand)\n",
    "shortage_rate = np.sum(shortage)/np.sum(new_supply_2)*100\n",
    "wastage_rate = np.sum(wastage)/np.sum(new_supply_2)*100\n",
    "print(\"Shortage rate: {:.2f}%\".format(shortage_rate))\n",
    "print(\"Wastage rate: {:.2f}%\".format(wastage_rate))"
   ]
  },
  {
   "cell_type": "markdown",
   "id": "cfebb5df-e6ce-4b8d-875d-737be435bb3b",
   "metadata": {},
   "source": [
    "## The effect of reducing the frequency of donation camps:"
   ]
  }
 ],
 "metadata": {
  "kernelspec": {
   "display_name": "Python 3 (ipykernel)",
   "language": "python",
   "name": "python3"
  },
  "language_info": {
   "codemirror_mode": {
    "name": "ipython",
    "version": 3
   },
   "file_extension": ".py",
   "mimetype": "text/x-python",
   "name": "python",
   "nbconvert_exporter": "python",
   "pygments_lexer": "ipython3",
   "version": "3.9.16"
  }
 },
 "nbformat": 4,
 "nbformat_minor": 5
}
